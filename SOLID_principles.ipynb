{
 "cells": [
  {
   "cell_type": "markdown",
   "id": "08fcbfcf",
   "metadata": {},
   "source": [
    "## Guide to SOLID Principles\n",
    "\n",
    "\n",
    "In this tutorial I will be discussing the SOLID principles of Object-oriented programming starting with some background on how they came about, than I will outline the principles with examples and reason is to why it helps in desinging the software. \n",
    "\n",
    "\n",
    "### Background\n",
    "\n",
    "SOLID is mnemonic acronym for five design principles are subset of princples first introduced by Robert C. Martin in his 2000 paper *Design Principles and Design Patterns*. These concepts were later built upon by Michael Feathers who introduced the SOLID acronym. The idea is to encourage code building that is more maintainable, understandable, and flexbile, as a result as applications grow big, we can reduce complexity and save ourselves headches down the road in maintaining the code base. \n",
    "\n",
    "The five concepts that make up SOLID principles are:\n",
    "\n",
    "1. Single responsiblity\n",
    "2. Open/Closed\n",
    "3. Liskov Substitution\n",
    "4. Interface Segregation\n",
    "5. Dependency Inversion"
   ]
  },
  {
   "cell_type": "markdown",
   "id": "71cf0c58",
   "metadata": {},
   "source": [
    "#### 1. Single Responsiblity Principle\n",
    "\n",
    "> \"There should never be more than one reason for a class to change.\" In other words, every class should have only one responsibility.\"\n",
    "\n",
    "**How does this principle help us to build better software?** \n",
    "\n",
    "Let's see a few of its benefits:\n",
    "* Testing – A class with one responsibility will have far fewer test cases.\n",
    "* Lower coupling – Less functionality in a single class will have fewer dependencies.\n",
    "* Organization – Smaller, well-organized classes are easier to search than monolithic ones.\n",
    "\n",
    "For example, let's look at a `Journal` class:"
   ]
  },
  {
   "cell_type": "code",
   "execution_count": 1,
   "id": "8ea0ec3d",
   "metadata": {},
   "outputs": [],
   "source": [
    "class Journal:\n",
    "    \n",
    "    def __init__(self):\n",
    "        self.entries = []\n",
    "        self.count = 0\n",
    "        \n",
    "    def add_entry(self, text):\n",
    "        self.count += 1\n",
    "        self.entries.append(f'{self.count}: {text}')\n",
    "        \n",
    "    def remove_entry(self, pos):\n",
    "        del self.entries[pos]\n",
    "        \n",
    "    def __str__(self):\n",
    "        return '\\n'.join(self.entries)"
   ]
  },
  {
   "cell_type": "code",
   "execution_count": 2,
   "id": "f8e04e90",
   "metadata": {},
   "outputs": [
    {
     "name": "stdout",
     "output_type": "stream",
     "text": [
      "Journal Entries:\n",
      "1: I woke up early today at 8am.\n",
      "2: I ate burrito for lunch.\n"
     ]
    }
   ],
   "source": [
    "j = Journal()\n",
    "j.add_entry('I woke up early today at 8am.')\n",
    "j.add_entry('I ate burrito for lunch.')\n",
    "print(f'Journal Entries:\\n{j}')"
   ]
  },
  {
   "cell_type": "markdown",
   "id": "87d4b221-242e-477d-9da1-a92ed29b2c69",
   "metadata": {},
   "source": [
    "Now let's break `SRP` principle, where we give ability to Journal to save itself. "
   ]
  },
  {
   "cell_type": "code",
   "execution_count": 23,
   "id": "5ee8b103",
   "metadata": {},
   "outputs": [],
   "source": [
    "class Journal:\n",
    "    \n",
    "    def __init__(self):\n",
    "        self.entries = []\n",
    "        self.count = 0\n",
    "        \n",
    "    def add_entry(self, text):\n",
    "        self.count += 1\n",
    "        self.entries.append(f'{self.count}: {text}')\n",
    "        \n",
    "    def remove_entry(self, pos):\n",
    "        del self.entries[pos]\n",
    "    \n",
    "    def save(self, filename):\n",
    "        print(f'[*] Saving journal to {filename}')\n",
    "        writer = open(filename, 'w')\n",
    "        writer.write(str(self))\n",
    "        writer.close()\n",
    "    \n",
    "    def load(self, filename):\n",
    "        print(f'[*] Loading journal from {filename}')\n",
    "        with open(filename) as reader:\n",
    "            for line in reader:\n",
    "                line = line.strip()\n",
    "                count, entry = line.split(':')\n",
    "                self.entries.append(f'{count}: {entry}')\n",
    "       \n",
    "    def load_from_web(self, uri):\n",
    "        pass\n",
    "\n",
    "    def __str__(self):\n",
    "        return '\\n'.join(self.entries)"
   ]
  },
  {
   "cell_type": "code",
   "execution_count": 24,
   "id": "d7507ae9",
   "metadata": {},
   "outputs": [
    {
     "name": "stdout",
     "output_type": "stream",
     "text": [
      "Journal Entries:\n",
      "1: I woke up early today at 8am.\n",
      "2: I ate burrito for lunch.\n"
     ]
    }
   ],
   "source": [
    "j = Journal()\n",
    "j.add_entry('I woke up early today at 8am.')\n",
    "j.add_entry('I ate burrito for lunch.')\n",
    "print(f'Journal Entries:\\n{j}')"
   ]
  },
  {
   "cell_type": "code",
   "execution_count": 25,
   "id": "63a3b3fe",
   "metadata": {},
   "outputs": [
    {
     "name": "stdout",
     "output_type": "stream",
     "text": [
      "[*] Saving journal to my_journal.txt\n",
      "[*] Loading journal from my_journal.txt\n"
     ]
    }
   ],
   "source": [
    "j.save('my_journal.txt')\n",
    "j.load('my_journal.txt')"
   ]
  },
  {
   "cell_type": "code",
   "execution_count": 26,
   "id": "39107f60-f7e8-495b-85b2-40a54c1593b0",
   "metadata": {},
   "outputs": [
    {
     "name": "stdout",
     "output_type": "stream",
     "text": [
      "1: I woke up early today at 8am.\n",
      "2: I ate burrito for lunch.\n",
      "1:  I woke up early today at 8am.\n",
      "2:  I ate burrito for lunch.\n"
     ]
    }
   ],
   "source": [
    "print(j)"
   ]
  },
  {
   "cell_type": "markdown",
   "id": "b460c16f-7fd5-4807-a320-86340c2f0ae1",
   "metadata": {},
   "source": [
    "Instead we should implement separate class called `PersistenceManager` which will deal with saving, loading to file or particular directory. "
   ]
  },
  {
   "cell_type": "code",
   "execution_count": 31,
   "id": "dbb8f55c-d85d-4690-ba07-332b09a2a0a0",
   "metadata": {},
   "outputs": [
    {
     "name": "stdout",
     "output_type": "stream",
     "text": [
      "[*] Saving journal to my_journal.txt\n",
      "1: I woke up early today at 8am.\n",
      "2: I ate burrito for lunch.\n"
     ]
    }
   ],
   "source": [
    "class Journal:\n",
    "    \n",
    "    def __init__(self):\n",
    "        self.entries = []\n",
    "        self.count = 0\n",
    "        \n",
    "    def add_entry(self, text):\n",
    "        self.count += 1\n",
    "        self.entries.append(f'{self.count}: {text}')\n",
    "        \n",
    "    def remove_entry(self, pos):\n",
    "        del self.entries[pos]\n",
    "        \n",
    "    def __str__(self):\n",
    "        return '\\n'.join(self.entries)\n",
    "    \n",
    "class PersistenceManager:\n",
    "    @staticmethod\n",
    "    def save_to_file(journal, filename):\n",
    "        print(f'[*] Saving journal to {filename}')\n",
    "        writer = open(filename, 'w')\n",
    "        writer.write(str(journal))\n",
    "        writer.close()\n",
    "        \n",
    "        \n",
    "j = Journal()\n",
    "j.add_entry('I woke up early today at 8am.')\n",
    "j.add_entry('I ate burrito for lunch.')\n",
    "PersistenceManager.save_to_file(j, 'my_journal.txt')\n",
    "\n",
    "with open('my_journal.txt') as reader:\n",
    "    print(reader.read())"
   ]
  },
  {
   "cell_type": "markdown",
   "id": "f176f970-5007-43d6-b8d0-cf56e740189f",
   "metadata": {},
   "source": [
    "## 2. Open for Extension, Closed for Modification\n",
    "\n",
    "\n"
   ]
  },
  {
   "cell_type": "code",
   "execution_count": null,
   "id": "c7d3f8c9-3817-41b6-bc23-cf6e13fb31b7",
   "metadata": {},
   "outputs": [],
   "source": []
  },
  {
   "cell_type": "code",
   "execution_count": null,
   "id": "57924aeb-19ca-4b58-8fdb-59010ce92773",
   "metadata": {},
   "outputs": [],
   "source": []
  },
  {
   "cell_type": "code",
   "execution_count": null,
   "id": "195797c7-55bd-4093-995d-2fc1981e2373",
   "metadata": {},
   "outputs": [],
   "source": []
  },
  {
   "cell_type": "code",
   "execution_count": null,
   "id": "2b5f4216-27e7-4dcf-8a53-3e950420146c",
   "metadata": {},
   "outputs": [],
   "source": []
  },
  {
   "cell_type": "code",
   "execution_count": null,
   "id": "ca225c2c-35a6-483e-845f-80c5a4847fea",
   "metadata": {},
   "outputs": [],
   "source": []
  },
  {
   "cell_type": "code",
   "execution_count": null,
   "id": "3b065636-09ad-413b-8abf-3693c55d4a42",
   "metadata": {},
   "outputs": [],
   "source": []
  }
 ],
 "metadata": {
  "kernelspec": {
   "display_name": "Python 3",
   "language": "python",
   "name": "python3"
  },
  "language_info": {
   "codemirror_mode": {
    "name": "ipython",
    "version": 3
   },
   "file_extension": ".py",
   "mimetype": "text/x-python",
   "name": "python",
   "nbconvert_exporter": "python",
   "pygments_lexer": "ipython3",
   "version": "3.9.1"
  }
 },
 "nbformat": 4,
 "nbformat_minor": 5
}
